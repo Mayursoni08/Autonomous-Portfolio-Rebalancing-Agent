{
 "cells": [
  {
   "cell_type": "markdown",
   "id": "5236d763",
   "metadata": {},
   "source": [
    "# Quantitative Portfolio Optimization and Rebalancing"
   ]
  },
  {
   "cell_type": "code",
   "execution_count": null,
   "id": "914af46c",
   "metadata": {},
   "outputs": [],
   "source": [
    "import numpy as np\n",
    "import pandas as pd\n",
    "import yfinance as yf\n",
    "import matplotlib.pyplot as plt\n",
    "from scipy.optimize import minimize"
   ]
  },
  {
   "cell_type": "code",
   "execution_count": null,
   "id": "c17582a6",
   "metadata": {},
   "outputs": [],
   "source": [
    "assets = ['RELIANCE.NS', 'INFY.NS', 'HDFCBANK.NS', 'ICICIBANK.NS']\n",
    "start_date = '2020-01-01'\n",
    "end_date = '2024-12-31'\n",
    "\n",
    "prices = yf.download(assets, start=start_date, end=end_date)['Adj Close']\n",
    "returns = prices.pct_change().dropna()"
   ]
  },
  {
   "cell_type": "code",
   "execution_count": null,
   "id": "48effcc8",
   "metadata": {},
   "outputs": [],
   "source": [
    "mean_returns = returns.mean() * 252\n",
    "cov_matrix = returns.cov() * 252"
   ]
  },
  {
   "cell_type": "code",
   "execution_count": null,
   "id": "a0234b79",
   "metadata": {},
   "outputs": [],
   "source": [
    "def portfolio_performance(weights, mean_returns, cov_matrix):\n",
    "    returns = np.dot(weights, mean_returns)\n",
    "    volatility = np.sqrt(np.dot(weights.T, np.dot(cov_matrix, weights)))\n",
    "    return returns, volatility\n",
    "\n",
    "def neg_sharpe_ratio(weights, mean_returns, cov_matrix, risk_free_rate=0.05):\n",
    "    p_ret, p_vol = portfolio_performance(weights, mean_returns, cov_matrix)\n",
    "    return -(p_ret - risk_free_rate) / p_vol\n",
    "\n",
    "num_assets = len(assets)\n",
    "constraints = ({'type': 'eq', 'fun': lambda x: np.sum(x) - 1})\n",
    "bounds = tuple((0, 1) for asset in range(num_assets))\n",
    "\n",
    "initial_weights = num_assets * [1. / num_assets,]\n",
    "opt_results = minimize(neg_sharpe_ratio, initial_weights,\n",
    "                       args=(mean_returns, cov_matrix),\n",
    "                       method='SLSQP', bounds=bounds, constraints=constraints)\n",
    "optimal_weights = opt_results.x"
   ]
  },
  {
   "cell_type": "code",
   "execution_count": null,
   "id": "21322f50",
   "metadata": {},
   "outputs": [],
   "source": [
    "ret, vol = portfolio_performance(optimal_weights, mean_returns, cov_matrix)\n",
    "sharpe = (ret - 0.05) / vol\n",
    "\n",
    "print('Optimal Portfolio Weights:')\n",
    "for i, asset in enumerate(assets):\n",
    "    print(f'{asset}: {optimal_weights[i]:.2%}')\n",
    "\n",
    "print(f'Expected Annual Return: {ret:.2%}')\n",
    "print(f'Annual Volatility: {vol:.2%}')\n",
    "print(f'Sharpe Ratio: {sharpe:.2f}')"
   ]
  },
  {
   "cell_type": "code",
   "execution_count": null,
   "id": "6469259a",
   "metadata": {},
   "outputs": [],
   "source": [
    "weights_df = pd.DataFrame(np.repeat([optimal_weights], len(returns), axis=0),\n",
    "                          columns=assets, index=returns.index)\n",
    "\n",
    "portfolio_returns = (returns * weights_df).sum(axis=1)\n",
    "cumulative_returns = (1 + portfolio_returns).cumprod()\n",
    "\n",
    "plt.figure(figsize=(10, 5))\n",
    "plt.plot(cumulative_returns, label='Optimized Portfolio')\n",
    "plt.title('Portfolio Cumulative Return (2020–2024)')\n",
    "plt.xlabel('Date')\n",
    "plt.ylabel('Cumulative Return')\n",
    "plt.legend()\n",
    "plt.grid(True)\n",
    "plt.show()"
   ]
  },
  {
   "cell_type": "code",
   "execution_count": null,
   "id": "d7b5e0ea",
   "metadata": {},
   "outputs": [],
   "source": [
    "rebalance_window = 60\n",
    "rebalance_dates = returns.index[::rebalance_window]\n",
    "portfolio_values = [1]\n",
    "\n",
    "for i in range(1, len(rebalance_dates)):\n",
    "    sub_returns = returns.loc[rebalance_dates[i-1]:rebalance_dates[i]]\n",
    "    mean_returns_sub = sub_returns.mean() * 252\n",
    "    cov_sub = sub_returns.cov() * 252\n",
    "    opt = minimize(neg_sharpe_ratio, initial_weights,\n",
    "                   args=(mean_returns_sub, cov_sub),\n",
    "                   method='SLSQP', bounds=bounds, constraints=constraints)\n",
    "    w = opt.x\n",
    "    growth = (1 + (sub_returns * w).sum(axis=1)).prod()\n",
    "    portfolio_values.append(portfolio_values[-1] * growth)\n",
    "\n",
    "plt.figure(figsize=(10, 5))\n",
    "plt.plot(rebalance_dates, portfolio_values, marker='o', label='Rebalanced Portfolio')\n",
    "plt.title('Portfolio Value with Periodic Rebalancing')\n",
    "plt.xlabel('Date')\n",
    "plt.ylabel('Portfolio Value')\n",
    "plt.legend()\n",
    "plt.grid(True)\n",
    "plt.show()"
   ]
  }
 ],
 "metadata": {},
 "nbformat": 4,
 "nbformat_minor": 5
}
